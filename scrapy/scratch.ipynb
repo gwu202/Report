{
 "cells": [
  {
   "cell_type": "code",
   "execution_count": 13,
   "outputs": [],
   "source": [
    "import pandas as pd"
   ],
   "metadata": {
    "collapsed": false,
    "pycharm": {
     "name": "#%%\n"
    }
   }
  },
  {
   "cell_type": "code",
   "execution_count": 14,
   "outputs": [],
   "source": [
    "excel_file_path = 'July 2023 Complete Monthly Ridership (with adjustments and estimates).xlsx'"
   ],
   "metadata": {
    "collapsed": false,
    "pycharm": {
     "name": "#%%\n"
    }
   }
  },
  {
   "cell_type": "code",
   "execution_count": 15,
   "outputs": [],
   "source": [
    "xls = pd.ExcelFile(excel_file_path)"
   ],
   "metadata": {
    "collapsed": false,
    "pycharm": {
     "name": "#%%\n"
    }
   }
  },
  {
   "cell_type": "code",
   "execution_count": 16,
   "outputs": [],
   "source": [
    "sheet_names = [sheet_name for sheet_name in xls.sheet_names if sheet_name != 'Read Me']\n"
   ],
   "metadata": {
    "collapsed": false,
    "pycharm": {
     "name": "#%%\n"
    }
   }
  },
  {
   "cell_type": "code",
   "execution_count": 17,
   "outputs": [
    {
     "data": {
      "text/plain": "['Master',\n 'UPT',\n 'VRM',\n 'VRH',\n 'VOMS',\n 'UPT Estimates',\n 'VRM Estimates',\n 'Calendar Year UPT',\n 'Calendar Year VRM',\n 'Mozart Reports']"
     },
     "execution_count": 17,
     "metadata": {},
     "output_type": "execute_result"
    }
   ],
   "source": [
    "sheet_names"
   ],
   "metadata": {
    "collapsed": false,
    "pycharm": {
     "name": "#%%\n"
    }
   }
  },
  {
   "cell_type": "code",
   "execution_count": 18,
   "outputs": [],
   "source": [
    "xls.sheet_names.remove('Read Me')"
   ],
   "metadata": {
    "collapsed": false,
    "pycharm": {
     "name": "#%%\n"
    }
   }
  },
  {
   "cell_type": "code",
   "execution_count": 19,
   "outputs": [
    {
     "name": "stdout",
     "output_type": "stream",
     "text": [
      "Master\n",
      "UPT\n",
      "VRM\n",
      "VRH\n",
      "VOMS\n",
      "UPT Estimates\n",
      "VRM Estimates\n",
      "Calendar Year UPT\n",
      "Calendar Year VRM\n",
      "Mozart Reports\n",
      "Excel file saved without \"Read Me\" sheet.\n"
     ]
    }
   ],
   "source": [
    "with pd.ExcelWriter('output.xlsx', engine='xlsxwriter') as writer:\n",
    "    # Iterate over the remaining sheets and save them to the new file\n",
    "    for sheet_name in xls.sheet_names:\n",
    "        if sheet_name != 'Read Me':\n",
    "            print(sheet_name)\n",
    "            df = pd.read_excel(excel_file_path, sheet_name=sheet_name)\n",
    "            df.to_excel(writer, sheet_name=sheet_name, index=False)\n",
    "\n",
    "print('Excel file saved without \"Read Me\" sheet.')\n",
    "\n",
    "\n",
    "\n"
   ],
   "metadata": {
    "collapsed": false,
    "pycharm": {
     "name": "#%%\n"
    }
   }
  },
  {
   "cell_type": "code",
   "execution_count": 22,
   "outputs": [],
   "source": [
    "sheet_names = [sheet_name for sheet_name in xls.sheet_names if sheet_name != 'Read Me']\n",
    "\n",
    "# Loop through each sheet and convert it to a CSV file\n"
   ],
   "metadata": {
    "collapsed": false,
    "pycharm": {
     "name": "#%%\n"
    }
   }
  },
  {
   "cell_type": "code",
   "execution_count": 25,
   "outputs": [],
   "source": [
    "from spiders.upload_redivis import create_dataset\n",
    "dataset = create_dataset('monthly_ridership')"
   ],
   "metadata": {
    "collapsed": false,
    "pycharm": {
     "name": "#%%\n"
    }
   }
  },
  {
   "cell_type": "code",
   "execution_count": 26,
   "outputs": [
    {
     "name": "stdout",
     "output_type": "stream",
     "text": [
      "\"Master\" has been converted to \"Master.csv\".\n",
      "\"UPT\" has been converted to \"UPT.csv\".\n",
      "\"VRM\" has been converted to \"VRM.csv\".\n",
      "\"VRH\" has been converted to \"VRH.csv\".\n",
      "\"VOMS\" has been converted to \"VOMS.csv\".\n",
      "\"UPT Estimates\" has been converted to \"UPT Estimates.csv\".\n",
      "\"VRM Estimates\" has been converted to \"VRM Estimates.csv\".\n",
      "\"Calendar Year UPT\" has been converted to \"Calendar Year UPT.csv\".\n",
      "\"Calendar Year VRM\" has been converted to \"Calendar Year VRM.csv\".\n",
      "\"Mozart Reports\" has been converted to \"Mozart Reports.csv\".\n"
     ]
    }
   ],
   "source": [
    "from spiders.upload_redivis import create_table, upload_file\n",
    "\n",
    "for sheet_name in sheet_names:\n",
    "    df = pd.read_excel(excel_file_path, sheet_name=sheet_name)\n",
    "    csv_file_name = f'{sheet_name}.csv'\n",
    "    df.to_csv(csv_file_name, index=False)\n",
    "    table = create_table(dataset, sheet_name)\n",
    "    upload_file(table, f'{sheet_name}.csv')\n",
    "    print(f'\"{sheet_name}\" has been converted to \"{csv_file_name}\".')"
   ],
   "metadata": {
    "collapsed": false,
    "pycharm": {
     "name": "#%%\n"
    }
   }
  },
  {
   "cell_type": "code",
   "execution_count": null,
   "outputs": [],
   "source": [],
   "metadata": {
    "collapsed": false,
    "pycharm": {
     "name": "#%%\n"
    }
   }
  }
 ],
 "metadata": {
  "kernelspec": {
   "display_name": "Python 3",
   "language": "python",
   "name": "python3"
  },
  "language_info": {
   "codemirror_mode": {
    "name": "ipython",
    "version": 2
   },
   "file_extension": ".py",
   "mimetype": "text/x-python",
   "name": "python",
   "nbconvert_exporter": "python",
   "pygments_lexer": "ipython2",
   "version": "2.7.6"
  }
 },
 "nbformat": 4,
 "nbformat_minor": 0
}