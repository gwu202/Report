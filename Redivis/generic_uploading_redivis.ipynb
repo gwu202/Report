{
 "cells": [
  {
   "cell_type": "markdown",
   "metadata": {
    "pycharm": {
     "name": "#%% md\n"
    }
   },
   "source": [
    "### Install Redivis (version: redivis-0.11.1)\n",
    "### Loading packages"
   ]
  },
  {
   "cell_type": "code",
   "execution_count": 1,
   "metadata": {
    "pycharm": {
     "name": "#%%\n"
    }
   },
   "outputs": [],
   "source": [
    "# pip install redivis --upgrade\n",
    "\n",
    "import redivis\n",
    "import pandas as pd\n",
    "import os"
   ]
  },
  {
   "cell_type": "markdown",
   "metadata": {
    "pycharm": {
     "name": "#%% md\n"
    }
   },
   "source": [
    "### Add your Redivis API:"
   ]
  },
  {
   "cell_type": "code",
   "execution_count": 4,
   "metadata": {
    "pycharm": {
     "name": "#%%\n"
    }
   },
   "outputs": [],
   "source": [
    "# Give your API key\n",
    "api_key = input(\"Input your Redivis API: \")"
   ]
  },
  {
   "cell_type": "code",
   "execution_count": null,
   "metadata": {
    "pycharm": {
     "name": "#%%\n"
    }
   },
   "outputs": [],
   "source": [
    "# Give your data set name\n",
    "dataset_name = input(\"Input the dataset you want to work on: \")"
   ]
  },
  {
   "cell_type": "code",
   "execution_count": null,
   "metadata": {
    "pycharm": {
     "name": "#%%\n"
    }
   },
   "outputs": [],
   "source": [
    "# Give your table name: \n",
    "table_name = input(\"Input name of table you want to create: \")"
   ]
  },
  {
   "cell_type": "code",
   "execution_count": 2,
   "metadata": {
    "pycharm": {
     "name": "#%%\n"
    }
   },
   "outputs": [],
   "source": [
    "# Give API key\n",
    "os.environ['REDIVIS_API_TOKEN'] = api_key\n",
    "\n",
    "## You can change org, if you're not working on EIDC \n",
    "# Declare organization\n",
    "organization = redivis.organization(\"EIDC\")\n",
    "\n",
    "# Select dataset\n",
    "dataset = organization.dataset(dataset_name)   \n",
    "\n",
    "# Create a table on the dataset. Datasets may have multiple tables\n",
    "table = (\n",
    "    dataset\n",
    "    .table(table_name)\n",
    "    .create(description=\"Manual Upload\")\n",
    ")\n",
    "\n",
    "# Upload a file to the table. \n",
    "# You can create multiple uploads per table, in which case they'll be appended together.\n",
    "# upload = table.upload(\"D:/data/OxCGRT_Download_010821_151052.csv\")\n",
    "\n",
    "upload = table.upload(\"C://Users//Sanha Tahir//Downloads//GeorgeTown//EIDC//RECS//split_tables//RECS_V2_WEIGHTS.csv\")\n",
    "\n",
    "with open(\"C://Users//Sanha Tahir//Downloads//GeorgeTown//EIDC//RECS//split_tables//RECS_V2_WEIGHTS.csv\") as file:\n",
    "    upload.create(\n",
    "        file, \n",
    "        type=\"delimited\",\n",
    "        remove_on_fail=False,    # Remove the upload if a failure occurs\n",
    "        wait_for_finish=False,   # Wait for the upload to finish processing\n",
    "        raise_on_fail=True      # Raise an error on failure\n",
    "    )"
   ]
  }
 ],
 "metadata": {
  "kernelspec": {
   "display_name": "my-env",
   "language": "python",
   "name": "python3"
  },
  "language_info": {
   "codemirror_mode": {
    "name": "ipython",
    "version": 3
   },
   "file_extension": ".py",
   "mimetype": "text/x-python",
   "name": "python",
   "nbconvert_exporter": "python",
   "pygments_lexer": "ipython3",
   "version": "3.9.13"
  },
  "orig_nbformat": 4
 },
 "nbformat": 4,
 "nbformat_minor": 2
}